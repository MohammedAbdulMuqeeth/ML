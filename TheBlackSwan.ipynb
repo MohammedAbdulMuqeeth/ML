{
 "cells": [
  {
   "cell_type": "code",
   "execution_count": 1,
   "metadata": {},
   "outputs": [],
   "source": [
    "import pyttsx3"
   ]
  },
  {
   "cell_type": "code",
   "execution_count": 2,
   "metadata": {},
   "outputs": [],
   "source": [
    "import PyPDF2"
   ]
  },
  {
   "cell_type": "code",
   "execution_count": 3,
   "metadata": {},
   "outputs": [],
   "source": [
    "book = open('D:/books/TBS.pdf', 'rb')"
   ]
  },
  {
   "cell_type": "code",
   "execution_count": 4,
   "metadata": {},
   "outputs": [],
   "source": [
    "pdfReader = PyPDF2.PdfFileReader(book)"
   ]
  },
  {
   "cell_type": "code",
   "execution_count": 5,
   "metadata": {},
   "outputs": [],
   "source": [
    "pages = pdfReader.numPages"
   ]
  },
  {
   "cell_type": "code",
   "execution_count": 6,
   "metadata": {},
   "outputs": [],
   "source": [
    "speaker = pyttsx3.init()"
   ]
  },
  {
   "cell_type": "code",
   "execution_count": 7,
   "metadata": {},
   "outputs": [
    {
     "data": {
      "text/plain": [
       "401"
      ]
     },
     "execution_count": 7,
     "metadata": {},
     "output_type": "execute_result"
    }
   ],
   "source": [
    "pages"
   ]
  },
  {
   "cell_type": "code",
   "execution_count": null,
   "metadata": {},
   "outputs": [
    {
     "name": "stdout",
     "output_type": "stream",
     "text": [
      "\n",
      "RANDOM HOUSE ÛÏQ NEW YORK \n",
      "Copyright © 2007 by Nassim Nicholas Taleb All rights reserved. Published in the United States by Random House, an imprint of The Random House Publishing Group, \n",
      "a division of Random House, Inc., New York. RANDOM HOUSE and colophon are registered trademarks of Random House, Inc. ISBN 978-1-4000-6351-2 LIBRARY OF CONGRESS CATALOGING-IN-PUBLICATION DATA Taleb, Nassim. The black swan: the impact of the highly improbable / Nassim Nicholas Taleb. p. cm. Includes bibliographical references and index. Contents: Part oneŠUmberto Eco's antilibrary, or how we seek validationŠPart twoŠWe just can't predictŠPart threeŠ Those gray swans of extremistanŠPart fourŠThe end. ISBN 978-1-4000-6351-2 1. Uncertainty (Information theory)ŠSocial aspects. 2. Forecasting. I. Title. Q375.T35 2007 003'.54Šdc22 2006051093 Printed in the United States of America on acid-free paper www.atrandom.com 98 76 Book design by Casey Hampton \n"
     ]
    }
   ],
   "source": [
    "for num in range(7, 10):\n",
    "    page = pdfReader.getPage(num)\n",
    "    text = page.extractText()\n",
    "    speaker.say(text)\n",
    "    print(text)\n",
    "    speaker.runAndWait()"
   ]
  },
  {
   "cell_type": "code",
   "execution_count": null,
   "metadata": {},
   "outputs": [],
   "source": []
  }
 ],
 "metadata": {
  "kernelspec": {
   "display_name": "Python 3",
   "language": "python",
   "name": "python3"
  },
  "language_info": {
   "codemirror_mode": {
    "name": "ipython",
    "version": 3
   },
   "file_extension": ".py",
   "mimetype": "text/x-python",
   "name": "python",
   "nbconvert_exporter": "python",
   "pygments_lexer": "ipython3",
   "version": "3.7.4"
  }
 },
 "nbformat": 4,
 "nbformat_minor": 2
}
